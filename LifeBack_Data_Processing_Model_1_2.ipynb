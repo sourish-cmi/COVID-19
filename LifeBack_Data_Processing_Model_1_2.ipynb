{
  "nbformat": 4,
  "nbformat_minor": 0,
  "metadata": {
    "colab": {
      "name": "LifeBack Data Processing Model 1_2.ipynb",
      "provenance": [],
      "collapsed_sections": [],
      "authorship_tag": "ABX9TyPlpdBzPZs0eLqeQs8hXeAb",
      "include_colab_link": true
    },
    "kernelspec": {
      "display_name": "Python 3",
      "name": "python3"
    }
  },
  "cells": [
    {
      "cell_type": "markdown",
      "metadata": {
        "id": "view-in-github",
        "colab_type": "text"
      },
      "source": [
        "<a href=\"https://colab.research.google.com/github/sourish-cmi/COVID-19/blob/master/LifeBack_Data_Processing_Model_1_2.ipynb\" target=\"_parent\"><img src=\"https://colab.research.google.com/assets/colab-badge.svg\" alt=\"Open In Colab\"/></a>"
      ]
    },
    {
      "cell_type": "code",
      "metadata": {
        "colab": {
          "base_uri": "https://localhost:8080/"
        },
        "id": "3646i3BZAn44",
        "outputId": "574a9190-5af4-4d63-c02c-9cea16a59786"
      },
      "source": [
        "from google.colab import drive\n",
        "drive.mount('/content/drive/')"
      ],
      "execution_count": null,
      "outputs": [
        {
          "output_type": "stream",
          "text": [
            "Mounted at /content/drive/\n"
          ],
          "name": "stdout"
        }
      ]
    },
    {
      "cell_type": "code",
      "metadata": {
        "id": "i65YEGiPBICL"
      },
      "source": [
        "import numpy as np\n",
        "import librosa, librosa.display\n",
        "import matplotlib.pyplot as plt\n",
        "import os\n",
        "import pandas as pd\n",
        "\n",
        "from skimage.io import imsave, imread\n",
        "import pylab\n",
        "from tqdm import tqdm\n",
        "import cv2 \n",
        "\n",
        "from glob import glob\n",
        "\n",
        "np.random.seed(42)\n",
        "\n"
      ],
      "execution_count": null,
      "outputs": []
    },
    {
      "cell_type": "code",
      "metadata": {
        "colab": {
          "base_uri": "https://localhost:8080/"
        },
        "id": "3JFXfuxRBNhh",
        "outputId": "4d76105a-6bdb-4666-cef9-37b67da371a3"
      },
      "source": [
        "pip install SpeechRecognition"
      ],
      "execution_count": null,
      "outputs": [
        {
          "output_type": "stream",
          "text": [
            "Collecting SpeechRecognition\n",
            "\u001b[?25l  Downloading https://files.pythonhosted.org/packages/26/e1/7f5678cd94ec1234269d23756dbdaa4c8cfaed973412f88ae8adf7893a50/SpeechRecognition-3.8.1-py2.py3-none-any.whl (32.8MB)\n",
            "\u001b[K     |████████████████████████████████| 32.8MB 130kB/s \n",
            "\u001b[?25hInstalling collected packages: SpeechRecognition\n",
            "Successfully installed SpeechRecognition-3.8.1\n"
          ],
          "name": "stdout"
        }
      ]
    },
    {
      "cell_type": "code",
      "metadata": {
        "colab": {
          "base_uri": "https://localhost:8080/"
        },
        "id": "2nHPXtrVBSMO",
        "outputId": "3396e146-19d8-4a8d-e8c1-b206297db36c"
      },
      "source": [
        "pip install ffmpeg"
      ],
      "execution_count": null,
      "outputs": [
        {
          "output_type": "stream",
          "text": [
            "Collecting ffmpeg\n",
            "  Downloading https://files.pythonhosted.org/packages/f0/cc/3b7408b8ecf7c1d20ad480c3eaed7619857bf1054b690226e906fdf14258/ffmpeg-1.4.tar.gz\n",
            "Building wheels for collected packages: ffmpeg\n",
            "  Building wheel for ffmpeg (setup.py) ... \u001b[?25l\u001b[?25hdone\n",
            "  Created wheel for ffmpeg: filename=ffmpeg-1.4-cp36-none-any.whl size=6083 sha256=aa8da8820bd709784b2940cfc854af14d73dcddd6197d8eb2f9c229ca2a5ca39\n",
            "  Stored in directory: /root/.cache/pip/wheels/b6/68/c3/a05a35f647ba871e5572b9bbfc0b95fd1c6637a2219f959e7a\n",
            "Successfully built ffmpeg\n",
            "Installing collected packages: ffmpeg\n",
            "Successfully installed ffmpeg-1.4\n"
          ],
          "name": "stdout"
        }
      ]
    },
    {
      "cell_type": "code",
      "metadata": {
        "id": "nu-zbYPVBWDd"
      },
      "source": [
        "import speech_recognition as sr\n",
        "import ffmpeg"
      ],
      "execution_count": null,
      "outputs": []
    },
    {
      "cell_type": "markdown",
      "metadata": {
        "id": "O5B0RFuGBvjR"
      },
      "source": [
        "**Read dpression score**\n"
      ]
    },
    {
      "cell_type": "code",
      "metadata": {
        "id": "S5qerVn8BsZJ",
        "colab": {
          "base_uri": "https://localhost:8080/",
          "height": 600
        },
        "outputId": "c7964d7d-554a-41e2-c749-4a48c4aa07d8"
      },
      "source": [
        "from pandas import DataFrame\n",
        "data_folder_2014 = '/content/drive/My Drive/AlgoLab+LifeBack/AVEC2014_Labels_Testset/Testing/DepressionLabels/'\n",
        "data_folder_2013='/content/drive/MyDrive/AlgoLab+LifeBack/AVEC_2013/Development_DepressionLabels'\n",
        "\n",
        "data_folder=[data_folder_2014,data_folder_2013]\n",
        "file_nms=[]\n",
        "bdi = []\n",
        "  \n",
        "for d in data_folder:\n",
        "  print('d = ',d)\n",
        "  os.chdir(d)\n",
        "  files = os.listdir()\n",
        "  print(len(files))\n",
        "\n",
        "  for i in range(len(files)):\n",
        "    dum = files[i].split('_')\n",
        "    file_nms.append(dum)\n",
        "    u = pd.read_csv(files[i],sep=',',header=None)\n",
        "    bdi.append(u.values[0][0])\n",
        "  \n",
        "print(bdi) \n",
        "print(type(bdi))\n",
        "print(file_nms)\n",
        "df1 = DataFrame(file_nms,columns=['Id','repeat_id','file_type'])\n",
        "df1['BDI'] =bdi\n",
        "print(df1.shape)\n",
        "df1 = df1.drop(columns=['file_type'])\n",
        "print(df1.shape)\n",
        "df1 = df1.drop_duplicates()\n",
        "print(df1.shape)\n",
        "df1\n"
      ],
      "execution_count": null,
      "outputs": [
        {
          "output_type": "stream",
          "text": [
            "d =  /content/drive/My Drive/AlgoLab+LifeBack/AVEC2014_Labels_Testset/Testing/DepressionLabels/\n",
            "150\n",
            "d =  /content/drive/MyDrive/AlgoLab+LifeBack/AVEC_2013/Development_DepressionLabels\n",
            "57\n",
            "[0, 22, 0, 15, 28, 7, 27, 0, 18, 3, 17, 24, 29, 6, 3, 21, 22, 23, 3, 7, 25, 0, 29, 20, 17, 1, 3, 30, 32, 25, 13, 2, 19, 22, 10, 22, 40, 8, 29, 1, 30, 6, 5, 18, 5, 44, 9, 10, 25, 6, 19, 18, 0, 9, 21, 12, 1, 3, 37, 32, 0, 12, 41, 11, 0, 9, 24, 5, 12, 4, 6, 43, 34, 10, 0, 6, 2, 0, 5, 0, 0, 15, 34, 41, 8, 12, 0, 3, 35, 9, 5, 33, 21, 29, 4, 14, 39, 15, 3, 19, 19, 11, 4, 15, 45, 27, 21, 31, 33, 17, 17, 0, 31, 6, 24, 23, 16, 7, 3, 26, 12, 25, 11, 14, 14, 8, 27, 13, 37, 3, 23, 5, 9, 19, 23, 21, 0, 1, 3, 7, 11, 11, 0, 0, 4, 33, 16, 9, 12, 16, 5, 6, 8, 12, 5, 9, 3, 23, 29, 6, 21, 18, 21, 24, 31, 6, 18, 0, 16, 17, 26, 0, 21, 21, 32, 32, 12, 12, 31, 25, 25, 34, 34, 39, 39, 9, 13, 40, 45, 45, 11, 29, 22, 20, 0, 0, 7, 4, 5, 5, 12, 27, 6, 0, 1, 3, 22]\n",
            "<class 'list'>\n",
            "[['364', '1', 'Depression.csv'], ['218', '3', 'Depression.csv'], ['365', '1', 'Depression.csv'], ['225', '2', 'Depression.csv'], ['234', '2', 'Depression.csv'], ['328', '1', 'Depression.csv'], ['244', '2', 'Depression.csv'], ['332', '4', 'Depression.csv'], ['216', '1', 'Depression.csv'], ['343', '1', 'Depression.csv'], ['315', '3', 'Depression.csv'], ['329', '1', 'Depression.csv'], ['224', '1', 'Depression.csv'], ['326', '1', 'Depression.csv'], ['203', '1', 'Depression.csv'], ['215', '1', 'Depression.csv'], ['239', '1', 'Depression.csv'], ['234', '3', 'Depression.csv'], ['344', '2', 'Depression.csv'], ['318', '1', 'Depression.csv'], ['325', '2', 'Depression.csv'], ['223', '2', 'Depression.csv'], ['213', '2', 'Depression.csv'], ['230', '1', 'Depression.csv'], ['225', '1', 'Depression.csv'], ['334', '1', 'Depression.csv'], ['347', '2', 'Depression.csv'], ['226', '2', 'Depression.csv'], ['217', '3', 'Depression.csv'], ['244', '3', 'Depression.csv'], ['227', '2', 'Depression.csv'], ['332', '2', 'Depression.csv'], ['306', '3', 'Depression.csv'], ['358', '1', 'Depression.csv'], ['207', '2', 'Depression.csv'], ['306', '2', 'Depression.csv'], ['241', '3', 'Depression.csv'], ['320', '2', 'Depression.csv'], ['244', '1', 'Depression.csv'], ['332', '1', 'Depression.csv'], ['217', '2', 'Depression.csv'], ['205', '1', 'Depression.csv'], ['320', '3', 'Depression.csv'], ['214', '3', 'Depression.csv'], ['215', '3', 'Depression.csv'], ['241', '2', 'Depression.csv'], ['239', '3', 'Depression.csv'], ['232', '1', 'Depression.csv'], ['245', '1', 'Depression.csv'], ['219', '2', 'Depression.csv'], ['236', '3', 'Depression.csv'], ['220', '2', 'Depression.csv'], ['228', '2', 'Depression.csv'], ['215', '2', 'Depression.csv'], ['229', '1', 'Depression.csv'], ['207', '1', 'Depression.csv'], ['228', '1', 'Depression.csv'], ['211', '2', 'Depression.csv'], ['237', '3', 'Depression.csv'], ['231', '1', 'Depression.csv'], ['317', '4', 'Depression.csv'], ['341', '2', 'Depression.csv'], ['243', '1', 'Depression.csv'], ['242', '2', 'Depression.csv'], ['313', '3', 'Depression.csv'], ['342', '3', 'Depression.csv'], ['218', '2', 'Depression.csv'], ['321', '1', 'Depression.csv'], ['318', '2', 'Depression.csv'], ['319', '1', 'Depression.csv'], ['209', '1', 'Depression.csv'], ['246', '1', 'Depression.csv'], ['237', '2', 'Depression.csv'], ['220', '1', 'Depression.csv'], ['365', '2', 'Depression.csv'], ['351', '1', 'Depression.csv'], ['319', '2', 'Depression.csv'], ['312', '2', 'Depression.csv'], ['208', '1', 'Depression.csv'], ['221', '1', 'Depression.csv'], ['335', '2', 'Depression.csv'], ['357', '1', 'Depression.csv'], ['315', '2', 'Depression.csv'], ['237', '1', 'Depression.csv'], ['206', '1', 'Depression.csv'], ['323', '1', 'Depression.csv'], ['223', '1', 'Depression.csv'], ['211', '1', 'Depression.csv'], ['226', '1', 'Depression.csv'], ['209', '2', 'Depression.csv'], ['212', '1', 'Depression.csv'], ['219', '1', 'Depression.csv'], ['308', '3', 'Depression.csv'], ['246', '2', 'Depression.csv'], ['233', '1', 'Depression.csv'], ['346', '1', 'Depression.csv'], ['238', '3', 'Depression.csv'], ['220', '3', 'Depression.csv'], ['205', '2', 'Depression.csv'], ['310', '2', 'Depression.csv'], ['219', '3', 'Depression.csv'], ['321', '2', 'Depression.csv'], ['249', '1', 'Depression.csv'], ['357', '2', 'Depression.csv'], ['241', '1', 'Depression.csv'], ['323', '3', 'Depression.csv'], ['245', '3', 'Depression.csv'], ['234', '1', 'Depression.csv'], ['359', '1', 'Depression.csv'], ['229', '2', 'Depression.csv'], ['317', '3', 'Depression.csv'], ['322', '1', 'Depression.csv'], ['218', '1', 'Depression.csv'], ['214', '2', 'Depression.csv'], ['317', '1', 'Depression.csv'], ['213', '3', 'Depression.csv'], ['222', '1', 'Depression.csv'], ['318', '3', 'Depression.csv'], ['206', '2', 'Depression.csv'], ['227', '1', 'Depression.csv'], ['338', '1', 'Depression.csv'], ['236', '2', 'Depression.csv'], ['240', '3', 'Depression.csv'], ['247', '1', 'Depression.csv'], ['240', '1', 'Depression.csv'], ['203', '2', 'Depression.csv'], ['250', '1', 'Depression.csv'], ['239', '2', 'Depression.csv'], ['238', '2', 'Depression.csv'], ['333', '1', 'Depression.csv'], ['236', '1', 'Depression.csv'], ['331', '1', 'Depression.csv'], ['242', '3', 'Depression.csv'], ['310', '4', 'Depression.csv'], ['358', '2', 'Depression.csv'], ['216', '2', 'Depression.csv'], ['324', '1', 'Depression.csv'], ['210', '2', 'Depression.csv'], ['320', '1', 'Depression.csv'], ['341', '1', 'Depression.csv'], ['368', '1', 'Depression.csv'], ['214', '1', 'Depression.csv'], ['345', '3', 'Depression.csv'], ['331', '3', 'Depression.csv'], ['208', '2', 'Depression.csv'], ['213', '1', 'Depression.csv'], ['242', '1', 'Depression.csv'], ['247', '3', 'Depression.csv'], ['232', '2', 'Depression.csv'], ['240', '2', 'Depression.csv'], ['204', '1', 'Depression.csv'], ['205', '1', 'Depression.csv'], ['206', '1', 'Depression.csv'], ['207', '1', 'Depression.csv'], ['208', '1', 'Depression.csv'], ['209', '2', 'Depression.csv'], ['211', '1', 'Depression.csv'], ['213', '3', 'Depression.csv'], ['213', '2', 'Depression.csv'], ['214', '2', 'Depression.csv'], ['215', '1', 'Depression.csv'], ['216', '1', 'Depression.csv'], ['216', '2', 'Depression.csv'], ['218', '2', 'Depression.csv'], ['218', '1', 'Depression.csv'], ['219', '2', 'Depression.csv'], ['220', '2', 'Depression.csv'], ['221', '1', 'Depression.csv'], ['222', '1', 'Depression.csv'], ['225', '1', 'Depression.csv'], ['227', '1', 'Depression.csv'], ['228', '2', 'Depression.csv'], ['229', '1', 'Depression (1).csv'], ['229', '1', 'Depression.csv'], ['231', '1', 'Depression (1).csv'], ['231', '1', 'Depression.csv'], ['232', '2', 'Depression (1).csv'], ['232', '2', 'Depression.csv'], ['234', '1', 'Depression.csv'], ['236', '2', 'Depression (1).csv'], ['236', '2', 'Depression.csv'], ['237', '2', 'Depression (1).csv'], ['237', '2', 'Depression.csv'], ['238', '3', 'Depression (1).csv'], ['238', '3', 'Depression.csv'], ['239', '3', 'Depression.csv'], ['239', '2', 'Depression.csv'], ['241', '3', 'Depression.csv'], ['241', '1', 'Depression (1).csv'], ['241', '1', 'Depression.csv'], ['242', '2', 'Depression.csv'], ['244', '1', 'Depression.csv'], ['306', '2', 'Depression.csv'], ['310', '3', 'Depression.csv'], ['313', '3', 'Depression.csv'], ['316', '2', 'Depression.csv'], ['318', '1', 'Depression.csv'], ['319', '1', 'Depression.csv'], ['320', '3', 'Depression.csv'], ['321', '1', 'Depression.csv'], ['323', '1', 'Depression.csv'], ['323', '3', 'Depression.csv'], ['326', '1', 'Depression.csv'], ['331', '3', 'Depression.csv'], ['332', '1', 'Depression.csv'], ['333', '1', 'Depression.csv'], ['310', '1', 'Depression.csv']]\n",
            "(207, 4)\n",
            "(207, 3)\n",
            "(154, 3)\n"
          ],
          "name": "stdout"
        },
        {
          "output_type": "execute_result",
          "data": {
            "text/html": [
              "<div>\n",
              "<style scoped>\n",
              "    .dataframe tbody tr th:only-of-type {\n",
              "        vertical-align: middle;\n",
              "    }\n",
              "\n",
              "    .dataframe tbody tr th {\n",
              "        vertical-align: top;\n",
              "    }\n",
              "\n",
              "    .dataframe thead th {\n",
              "        text-align: right;\n",
              "    }\n",
              "</style>\n",
              "<table border=\"1\" class=\"dataframe\">\n",
              "  <thead>\n",
              "    <tr style=\"text-align: right;\">\n",
              "      <th></th>\n",
              "      <th>Id</th>\n",
              "      <th>repeat_id</th>\n",
              "      <th>BDI</th>\n",
              "    </tr>\n",
              "  </thead>\n",
              "  <tbody>\n",
              "    <tr>\n",
              "      <th>0</th>\n",
              "      <td>364</td>\n",
              "      <td>1</td>\n",
              "      <td>0</td>\n",
              "    </tr>\n",
              "    <tr>\n",
              "      <th>1</th>\n",
              "      <td>218</td>\n",
              "      <td>3</td>\n",
              "      <td>22</td>\n",
              "    </tr>\n",
              "    <tr>\n",
              "      <th>2</th>\n",
              "      <td>365</td>\n",
              "      <td>1</td>\n",
              "      <td>0</td>\n",
              "    </tr>\n",
              "    <tr>\n",
              "      <th>3</th>\n",
              "      <td>225</td>\n",
              "      <td>2</td>\n",
              "      <td>15</td>\n",
              "    </tr>\n",
              "    <tr>\n",
              "      <th>4</th>\n",
              "      <td>234</td>\n",
              "      <td>2</td>\n",
              "      <td>28</td>\n",
              "    </tr>\n",
              "    <tr>\n",
              "      <th>...</th>\n",
              "      <td>...</td>\n",
              "      <td>...</td>\n",
              "      <td>...</td>\n",
              "    </tr>\n",
              "    <tr>\n",
              "      <th>149</th>\n",
              "      <td>240</td>\n",
              "      <td>2</td>\n",
              "      <td>16</td>\n",
              "    </tr>\n",
              "    <tr>\n",
              "      <th>150</th>\n",
              "      <td>204</td>\n",
              "      <td>1</td>\n",
              "      <td>5</td>\n",
              "    </tr>\n",
              "    <tr>\n",
              "      <th>193</th>\n",
              "      <td>310</td>\n",
              "      <td>3</td>\n",
              "      <td>20</td>\n",
              "    </tr>\n",
              "    <tr>\n",
              "      <th>195</th>\n",
              "      <td>316</td>\n",
              "      <td>2</td>\n",
              "      <td>0</td>\n",
              "    </tr>\n",
              "    <tr>\n",
              "      <th>206</th>\n",
              "      <td>310</td>\n",
              "      <td>1</td>\n",
              "      <td>22</td>\n",
              "    </tr>\n",
              "  </tbody>\n",
              "</table>\n",
              "<p>154 rows × 3 columns</p>\n",
              "</div>"
            ],
            "text/plain": [
              "      Id repeat_id  BDI\n",
              "0    364         1    0\n",
              "1    218         3   22\n",
              "2    365         1    0\n",
              "3    225         2   15\n",
              "4    234         2   28\n",
              "..   ...       ...  ...\n",
              "149  240         2   16\n",
              "150  204         1    5\n",
              "193  310         3   20\n",
              "195  316         2    0\n",
              "206  310         1   22\n",
              "\n",
              "[154 rows x 3 columns]"
            ]
          },
          "metadata": {
            "tags": []
          },
          "execution_count": 6
        }
      ]
    },
    {
      "cell_type": "code",
      "metadata": {
        "id": "T12adX9bC8tS"
      },
      "source": [
        "def audio_feature_extraction(data_folder,window_size=5):\n",
        "  X=[]\n",
        "  y=[]\n",
        "  for d in data_folder:\n",
        "    os.chdir(d)\n",
        "    files = list(os.listdir())\n",
        "    print('d = ',d)\n",
        "    print(len(files))\n",
        "    for i in range(len(files)):\n",
        "      if i%5==0: \n",
        "      #  print('d = ',d)\n",
        "         print('i = ',i)\n",
        "      dum = files[i].split('_')\n",
        "      dum1 = df1.loc[df1['Id'] == dum[0], ]\n",
        "      bdi_score = int(dum1.loc[dum1['repeat_id'] == dum[1],'BDI' ])\n",
        "      audio_file = os.path.join(d,files[i])\n",
        "      #print(audio_file)\n",
        "      signal, sr = librosa.load(audio_file)\n",
        "      audio_length = signal.shape[0]/sr\n",
        "      no_of_split = int(audio_length//window_size)\n",
        "      signal_length_round =np.int(no_of_split*sr*window_size)\n",
        "      signal_brks = np.array_split(signal[:signal_length_round], no_of_split)\n",
        "      \n",
        "      hop_length = 512 #number of short fast fourier transforms\n",
        "      n_fft = 2048 #number of samples in each short fft\n",
        "      # calculate duration hop length and window in seconds\n",
        "      hop_length_duration = float(hop_length)/sr\n",
        "      n_fft_duration = float(n_fft)/sr\n",
        "\n",
        "      for j in range(no_of_split):\n",
        "          stft = librosa.stft(signal_brks[j], n_fft=n_fft, hop_length=hop_length)\n",
        "          spectrogram = np.abs(stft)\n",
        "          mel_spectrogram = librosa.amplitude_to_db(spectrogram)\n",
        "          mel_spectrogram_resize = cv2.resize(mel_spectrogram, (128, 128)) \n",
        "\n",
        "          #mel_spectrogram=librosa.feature.melspectrogram(signal_brks[j], n_fft=n_fft, hop_length=hop_length)\n",
        "\n",
        "          X.append(mel_spectrogram_resize)\n",
        "          y.append(bdi_score)\n",
        "    \n",
        "  X=np.array(X)\n",
        "  y=np.array(y)\n",
        "\n",
        "  return(X, y)"
      ],
      "execution_count": null,
      "outputs": []
    },
    {
      "cell_type": "code",
      "metadata": {
        "colab": {
          "base_uri": "https://localhost:8080/"
        },
        "id": "T4N-uIDeyRTS",
        "outputId": "dcb11047-dabe-4d70-bcb2-c3fa17985ecd"
      },
      "source": [
        "data_folder1 = '/content/drive/My Drive/AlgoLab+LifeBack/AVEC2014_Audio/Audio/Training/Northwind'\n",
        "data_folder2 = '/content/drive/My Drive/AlgoLab+LifeBack/AVEC2014_Audio/Audio/Training/Freeform'\n",
        "data_folder3 = '/content/drive/My Drive/AlgoLab+LifeBack/AVEC2014_Audio/Audio/Development/Northwind'\n",
        "data_folder4 = '/content/drive/My Drive/AlgoLab+LifeBack/AVEC2014_Audio/Audio/Development/Freeform'\n",
        "data_folder_2013='/content/drive/MyDrive/AlgoLab+LifeBack/AVEC_2013/Development'\n",
        "\n",
        "data_folder = [data_folder_2013,data_folder1,data_folder2,data_folder3,data_folder4]\n",
        "\n",
        "X_train, y_train = audio_feature_extraction(data_folder=data_folder)\n",
        "#X_train, y_train = audio_feature_extraction(data_folder=data_folder_2013)\n"
      ],
      "execution_count": null,
      "outputs": [
        {
          "output_type": "stream",
          "text": [
            "d =  /content/drive/MyDrive/AlgoLab+LifeBack/AVEC_2013/Development\n",
            "51\n",
            "i =  0\n",
            "i =  5\n",
            "i =  10\n",
            "i =  15\n",
            "i =  20\n",
            "i =  25\n",
            "i =  30\n",
            "i =  35\n",
            "i =  40\n",
            "i =  45\n",
            "i =  50\n",
            "d =  /content/drive/My Drive/AlgoLab+LifeBack/AVEC2014_Audio/Audio/Training/Northwind\n",
            "50\n",
            "i =  0\n",
            "i =  5\n",
            "i =  10\n",
            "i =  15\n",
            "i =  20\n",
            "i =  25\n",
            "i =  30\n",
            "i =  35\n",
            "i =  40\n",
            "i =  45\n",
            "d =  /content/drive/My Drive/AlgoLab+LifeBack/AVEC2014_Audio/Audio/Training/Freeform\n",
            "50\n",
            "i =  0\n",
            "i =  5\n",
            "i =  10\n",
            "i =  15\n",
            "i =  20\n",
            "i =  25\n",
            "i =  30\n",
            "i =  35\n",
            "i =  40\n",
            "i =  45\n",
            "d =  /content/drive/My Drive/AlgoLab+LifeBack/AVEC2014_Audio/Audio/Development/Northwind\n",
            "50\n",
            "i =  0\n",
            "i =  5\n",
            "i =  10\n",
            "i =  15\n",
            "i =  20\n",
            "i =  25\n",
            "i =  30\n",
            "i =  35\n",
            "i =  40\n",
            "i =  45\n",
            "d =  /content/drive/My Drive/AlgoLab+LifeBack/AVEC2014_Audio/Audio/Development/Freeform\n",
            "50\n",
            "i =  0\n",
            "i =  5\n",
            "i =  10\n",
            "i =  15\n",
            "i =  20\n",
            "i =  25\n",
            "i =  30\n",
            "i =  35\n",
            "i =  40\n",
            "i =  45\n"
          ],
          "name": "stdout"
        }
      ]
    },
    {
      "cell_type": "code",
      "metadata": {
        "colab": {
          "base_uri": "https://localhost:8080/"
        },
        "id": "FaArlSa-otoH",
        "outputId": "008eda32-1c2a-43a1-a406-3be356e08583"
      },
      "source": [
        "print(X_train.shape)\n",
        "print(y_train)\n"
      ],
      "execution_count": null,
      "outputs": [
        {
          "output_type": "stream",
          "text": [
            "(11591, 128, 128)\n",
            "[ 5  5  5 ... 21 21 31]\n"
          ],
          "name": "stdout"
        }
      ]
    },
    {
      "cell_type": "code",
      "metadata": {
        "colab": {
          "base_uri": "https://localhost:8080/"
        },
        "id": "J_15FGJDnv-D",
        "outputId": "10e7b923-41d2-4b36-a797-e977b3f0d719"
      },
      "source": [
        "print(np.min(X_train),np.max(X_train))"
      ],
      "execution_count": null,
      "outputs": [
        {
          "output_type": "stream",
          "text": [
            "-68.614456 52.372864\n"
          ],
          "name": "stdout"
        }
      ]
    },
    {
      "cell_type": "code",
      "metadata": {
        "colab": {
          "base_uri": "https://localhost:8080/"
        },
        "id": "pEhtCEvTEG-4",
        "outputId": "a4c27ff3-3554-44ae-9d70-6308bf6749ed"
      },
      "source": [
        "data_folder5 = '/content/drive/My Drive/AlgoLab+LifeBack/AVEC2014_Audio/Audio/Testing/Northwind'\n",
        "data_folder6 = '/content/drive/My Drive/AlgoLab+LifeBack/AVEC2014_Audio/Audio/Testing/Freeform'\n",
        "\n",
        "data_folder = [data_folder5,data_folder6]\n",
        "\n",
        "X_test, y_test = audio_feature_extraction(data_folder=data_folder)\n"
      ],
      "execution_count": null,
      "outputs": [
        {
          "output_type": "stream",
          "text": [
            "d =  /content/drive/My Drive/AlgoLab+LifeBack/AVEC2014_Audio/Audio/Testing/Northwind\n",
            "50\n",
            "i =  0\n",
            "i =  5\n",
            "i =  10\n",
            "i =  15\n",
            "i =  20\n",
            "i =  25\n",
            "i =  30\n",
            "i =  35\n",
            "i =  40\n",
            "i =  45\n",
            "d =  /content/drive/My Drive/AlgoLab+LifeBack/AVEC2014_Audio/Audio/Testing/Freeform\n",
            "50\n",
            "i =  0\n",
            "i =  5\n",
            "i =  10\n",
            "i =  15\n",
            "i =  20\n",
            "i =  25\n",
            "i =  30\n",
            "i =  35\n",
            "i =  40\n",
            "i =  45\n"
          ],
          "name": "stdout"
        }
      ]
    },
    {
      "cell_type": "code",
      "metadata": {
        "colab": {
          "base_uri": "https://localhost:8080/"
        },
        "id": "Hiujz4EaWnUm",
        "outputId": "29ebc10c-3e52-4c1b-b7a9-1691f8337cc0"
      },
      "source": [
        "print(X_test.shape)\n",
        "print(y_test)\n",
        "print(len(y_test))"
      ],
      "execution_count": null,
      "outputs": [
        {
          "output_type": "stream",
          "text": [
            "(1208, 128, 128)\n",
            "[15 15 15 ... 19 19 19]\n",
            "1208\n"
          ],
          "name": "stdout"
        }
      ]
    },
    {
      "cell_type": "code",
      "metadata": {
        "colab": {
          "base_uri": "https://localhost:8080/"
        },
        "id": "-FLN7M4Z2UN3",
        "outputId": "3d1beab3-c579-4c01-e850-6ce0349096ea"
      },
      "source": [
        "print(np.min(X_test),np.max(X_test))"
      ],
      "execution_count": null,
      "outputs": [
        {
          "output_type": "stream",
          "text": [
            "-100.0 46.5738\n"
          ],
          "name": "stdout"
        }
      ]
    },
    {
      "cell_type": "code",
      "metadata": {
        "id": "HQekYUqN4XNU"
      },
      "source": [
        "X_train = (X_train+70)/140\n",
        "X_test = (X_test+70)/140"
      ],
      "execution_count": null,
      "outputs": []
    },
    {
      "cell_type": "code",
      "metadata": {
        "id": "vIB3mygfUus9"
      },
      "source": [
        "#data_folder = '/content/drive/MyDrive/AlgoLab+LifeBack/AVEC2014_Audio/Audio/data_for_model_1_2/'\n",
        "data_folder ='/content/drive/MyDrive/AlgoLab+LifeBack/Model_1_2/'\n",
        "os.chdir(data_folder)\n",
        "np.save(file='X_train.npy',arr=X_train)\n",
        "np.save(file='y_train.npy',arr=y_train)\n"
      ],
      "execution_count": null,
      "outputs": []
    },
    {
      "cell_type": "code",
      "metadata": {
        "id": "hFKB8OnqlY3T"
      },
      "source": [
        "#data_folder = '/content/drive/MyDrive/AlgoLab+LifeBack/AVEC2014_Audio/Audio/data_for_model_1_2/'\n",
        "data_folder ='/content/drive/MyDrive/AlgoLab+LifeBack/Model_1_2'\n",
        "os.chdir(data_folder)\n",
        "np.save(file='X_test.npy',arr=X_test)\n",
        "np.save(file='y_test.npy',arr=y_test)"
      ],
      "execution_count": null,
      "outputs": []
    }
  ]
}